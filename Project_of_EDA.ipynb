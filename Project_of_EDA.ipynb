{
  "nbformat": 4,
  "nbformat_minor": 0,
  "metadata": {
    "colab": {
      "private_outputs": true,
      "provenance": [],
      "collapsed_sections": [
        "vncDsAP0Gaoa",
        "w6K7xa23Elo4",
        "0wOQAZs5pc--",
        "DWi_peFvRSpg",
        "KSlN3yHqYklG",
        "4Of9eVA-YrdM",
        "lkU71tAQRTfP",
        "bamQiAODYuh1",
        "OH-pJp9IphqM",
        "PIIx-8_IphqN",
        "BZR9WyysphqO",
        "YJ55k-q6phqO",
        "U2RJ9gkRphqQ",
        "x-EpHcCOp1ci",
        "n3dbpmDWp1ck",
        "Ag9LCva-p1cl",
        "A68Cn4piQ-ik",
        "SI_hoOuCQ-Gs",
        "lq_6PyMaQ-8q",
        "85HgHh5XyR-s",
        "NC_X3p0fY2L0",
        "gIfDvo9L0UH2"
      ],
      "include_colab_link": true
    },
    "kernelspec": {
      "name": "python3",
      "display_name": "Python 3"
    },
    "language_info": {
      "name": "python"
    }
  },
  "cells": [
    {
      "cell_type": "markdown",
      "metadata": {
        "id": "view-in-github",
        "colab_type": "text"
      },
      "source": [
        "<a href=\"https://colab.research.google.com/github/Faisal-Ghub/EDA/blob/main/Project_of_EDA.ipynb\" target=\"_parent\"><img src=\"https://colab.research.google.com/assets/colab-badge.svg\" alt=\"Open In Colab\"/></a>"
      ]
    },
    {
      "cell_type": "markdown",
      "source": [
        "# **Project Name**    -  Exploratory Data Analysis\n",
        "\n"
      ],
      "metadata": {
        "id": "vncDsAP0Gaoa"
      }
    },
    {
      "cell_type": "markdown",
      "source": [
        "##### **Project Type**    - EDA\n",
        "##### **Contribution**    - Individual\n"
      ],
      "metadata": {
        "id": "beRrZCGUAJYm"
      }
    },
    {
      "cell_type": "markdown",
      "source": [
        "# **Project Summary -**"
      ],
      "metadata": {
        "id": "FJNUwmbgGyua"
      }
    },
    {
      "cell_type": "markdown",
      "source": [
        "The data is of Amazon TV Shows and Movies. It has 125354 rows and 19 columns. Columns are personal_id, id , name, character, role, title, type, description, release_year, age certification, runtime, genres, production countries, seasons, imdb id , imdb score, imdb votes, tmdb popularity, tmdb score.\n",
        "There are total 8418 unique movies and 1355 unique shows. Only 5-10 % content scores good on IMDB & TMDB out of all the content which means there are some uncover patterns behind the success of such content. By analysing the data we have to find such insights which guide the production houses and businesses to save time and produce quality content."
      ],
      "metadata": {
        "id": "F6v_1wHtG2nS"
      }
    },
    {
      "cell_type": "markdown",
      "source": [
        "# **GitHub Link -**"
      ],
      "metadata": {
        "id": "w6K7xa23Elo4"
      }
    },
    {
      "cell_type": "markdown",
      "source": [
        "https://github.com/Faisal-Ghub"
      ],
      "metadata": {
        "id": "h1o69JH3Eqqn"
      }
    },
    {
      "cell_type": "markdown",
      "source": [
        "# **Problem Statement**\n"
      ],
      "metadata": {
        "id": "yQaldy8SH6Dl"
      }
    },
    {
      "cell_type": "markdown",
      "source": [
        "\"In today’s hypercompetitive digital era, where content is produced at unprecedented scale, there are some key factors which creates a difference between the high scored, popular and low scored, unpopular content i.e Genres,\n",
        " runtime, actors and so on. Through rigorous analysis of critical metrics—including IMDb/TMDB ratings, genre trends, runtime performance, and audience popularity—businesses can optimize content production to exceed audience expectations and maximize commercial success."
      ],
      "metadata": {
        "id": "DpeJGUA3kjGy"
      }
    },
    {
      "cell_type": "markdown",
      "source": [
        "#### **Define Your Business Objective?**"
      ],
      "metadata": {
        "id": "PH-0ReGfmX4f"
      }
    },
    {
      "cell_type": "markdown",
      "source": [
        "Producing contents which boost engagement , provide consumer satisfaction, high score on TMDB & IMDB and maximize the proft."
      ],
      "metadata": {
        "id": "PhDvGCAqmjP1"
      }
    },
    {
      "cell_type": "markdown",
      "source": [
        "# **General Guidelines** : -  "
      ],
      "metadata": {
        "id": "mDgbUHAGgjLW"
      }
    },
    {
      "cell_type": "markdown",
      "source": [
        "1.   Well-structured, formatted, and commented code is required.\n",
        "2.   Exception Handling, Production Grade Code & Deployment Ready Code will be a plus. Those students will be awarded some additional credits.\n",
        "     \n",
        "     The additional credits will have advantages over other students during Star Student selection.\n",
        "       \n",
        "             [ Note: - Deployment Ready Code is defined as, the whole .ipynb notebook should be executable in one go\n",
        "                       without a single error logged. ]\n",
        "\n",
        "3.   Each and every logic should have proper comments.\n",
        "4. You may add as many number of charts you want. Make Sure for each and every chart the following format should be answered.\n",
        "        \n",
        "\n",
        "```\n",
        "# Chart visualization code\n",
        "```\n",
        "            \n",
        "\n",
        "*   Why did you pick the specific chart?\n",
        "*   What is/are the insight(s) found from the chart?\n",
        "* Will the gained insights help creating a positive business impact?\n",
        "Are there any insights that lead to negative growth? Justify with specific reason.\n",
        "\n",
        "5. You have to create at least 20 logical & meaningful charts having important insights.\n",
        "\n",
        "\n",
        "[ Hints : - Do the Vizualization in  a structured way while following \"UBM\" Rule.\n",
        "\n",
        "U - Univariate Analysis,\n",
        "\n",
        "B - Bivariate Analysis (Numerical - Categorical, Numerical - Numerical, Categorical - Categorical)\n",
        "\n",
        "M - Multivariate Analysis\n",
        " ]\n",
        "\n",
        "\n",
        "\n"
      ],
      "metadata": {
        "id": "ZrxVaUj-hHfC"
      }
    },
    {
      "cell_type": "markdown",
      "source": [
        "# ***Let's Begin !***"
      ],
      "metadata": {
        "id": "O_i_v8NEhb9l"
      }
    },
    {
      "cell_type": "markdown",
      "source": [
        "## ***1. Know Your Data***"
      ],
      "metadata": {
        "id": "HhfV-JJviCcP"
      }
    },
    {
      "cell_type": "markdown",
      "source": [
        "### Import Libraries"
      ],
      "metadata": {
        "id": "Y3lxredqlCYt"
      }
    },
    {
      "cell_type": "code",
      "source": [
        "# Import Libraries\n",
        "import numpy as np\n",
        "import pandas as pd\n",
        "import matplotlib.pyplot as plt\n",
        "import seaborn as sns"
      ],
      "metadata": {
        "id": "M8Vqi-pPk-HR"
      },
      "execution_count": null,
      "outputs": []
    },
    {
      "cell_type": "markdown",
      "source": [
        "### Dataset Loading"
      ],
      "metadata": {
        "id": "3RnN4peoiCZX"
      }
    },
    {
      "cell_type": "code",
      "source": [
        "# Load Dataset\n",
        "credits = pd.read_csv(\"/content/credits.csv.zip\")\n",
        "titles = pd.read_csv(\"/content/titles.csv.zip\")\n",
        "data = pd.merge(credits,titles,on = \"id\",how = \"outer\")"
      ],
      "metadata": {
        "id": "4CkvbW_SlZ_R"
      },
      "execution_count": null,
      "outputs": []
    },
    {
      "cell_type": "markdown",
      "source": [
        "### Dataset First View"
      ],
      "metadata": {
        "id": "x71ZqKXriCWQ"
      }
    },
    {
      "cell_type": "code",
      "source": [
        "# Dataset First Look\n",
        "data.head(15)"
      ],
      "metadata": {
        "id": "LWNFOSvLl09H"
      },
      "execution_count": null,
      "outputs": []
    },
    {
      "cell_type": "markdown",
      "source": [
        "### Dataset Rows & Columns count"
      ],
      "metadata": {
        "id": "7hBIi_osiCS2"
      }
    },
    {
      "cell_type": "code",
      "source": [
        "# Dataset Rows & Columns count\n",
        "data.shape"
      ],
      "metadata": {
        "id": "Kllu7SJgmLij"
      },
      "execution_count": null,
      "outputs": []
    },
    {
      "cell_type": "markdown",
      "source": [
        "### Dataset Information"
      ],
      "metadata": {
        "id": "JlHwYmJAmNHm"
      }
    },
    {
      "cell_type": "code",
      "source": [
        "# Dataset Info\n",
        "data.info()"
      ],
      "metadata": {
        "id": "e9hRXRi6meOf",
        "collapsed": true
      },
      "execution_count": null,
      "outputs": []
    },
    {
      "cell_type": "markdown",
      "source": [
        "#### Duplicate Values"
      ],
      "metadata": {
        "id": "35m5QtbWiB9F"
      }
    },
    {
      "cell_type": "code",
      "source": [
        "# Dataset Duplicate Value Count\n",
        "print(data.duplicated().sum())"
      ],
      "metadata": {
        "id": "1sLdpKYkmox0"
      },
      "execution_count": null,
      "outputs": []
    },
    {
      "cell_type": "markdown",
      "source": [
        "#### Missing Values/Null Values"
      ],
      "metadata": {
        "id": "PoPl-ycgm1ru"
      }
    },
    {
      "cell_type": "code",
      "source": [
        "# Missing Values/Null Values Count\n",
        "data.isnull().sum()"
      ],
      "metadata": {
        "id": "GgHWkxvamxVg",
        "collapsed": true
      },
      "execution_count": null,
      "outputs": []
    },
    {
      "cell_type": "code",
      "source": [
        "# Visualizing the missing values\n",
        "plt.figure(figsize = (10,8))\n",
        "sns.heatmap(data.isnull(), cbar=False)"
      ],
      "metadata": {
        "id": "3q5wnI3om9sJ",
        "collapsed": true
      },
      "execution_count": null,
      "outputs": []
    },
    {
      "cell_type": "markdown",
      "source": [
        "### What did you know about your dataset?"
      ],
      "metadata": {
        "id": "H0kj-8xxnORC"
      }
    },
    {
      "cell_type": "markdown",
      "source": [
        "The given dataset is from Amazon Prime Tv Shows and Movies, It comprises of 125354 rows and 19 columns. There are some important columns like imdb score, tmdb score, imdb vote, tmdb popularity,actor , title which helps us to analyze the correlation between content and extract the insights."
      ],
      "metadata": {
        "id": "gfoNAAC-nUe_"
      }
    },
    {
      "cell_type": "markdown",
      "source": [
        "## ***2. Understanding Your Variables***"
      ],
      "metadata": {
        "id": "nA9Y7ga8ng1Z"
      }
    },
    {
      "cell_type": "code",
      "source": [
        "# Dataset Columns\n",
        "list(data.columns)"
      ],
      "metadata": {
        "id": "j7xfkqrt5Ag5",
        "collapsed": true
      },
      "execution_count": null,
      "outputs": []
    },
    {
      "cell_type": "code",
      "source": [
        "# Dataset Describe\n",
        "data.describe(include='all')"
      ],
      "metadata": {
        "id": "DnOaZdaE5Q5t",
        "collapsed": true
      },
      "execution_count": null,
      "outputs": []
    },
    {
      "cell_type": "markdown",
      "source": [
        "### Variables Description"
      ],
      "metadata": {
        "id": "PBTbrJXOngz2"
      }
    },
    {
      "cell_type": "markdown",
      "source": [
        "\n",
        "*   Person ID : Total person ID\n",
        "\n",
        "*   ID : Total ID\n",
        "\n",
        "*   Name  : Total name of actors\n",
        "\n",
        "*   Character : Name of actors plays as a character in the content\n",
        "\n",
        "*   Role : Which role is being played\n",
        "\n",
        "*   Title : Name of the content\n",
        "\n",
        "*   Type : Type of content (Movie or Show)\n",
        "\n",
        "*   Description : Represents the category of movies and shows\n",
        "\n",
        "*   Release year : In which year did the content have been released\n",
        "\n",
        "*   Age certification : Age rating of content\n",
        "\n",
        "*   Runtime : Duration of movies/shows\n",
        "\n",
        "*   Genres : Which genres have been used in content\n",
        "\n",
        "*   Production Countries : Total name of countries who produces the content\n",
        "\n",
        "*   Seasons : Incomplete data leads to misunderstanding of columns\n",
        "\n",
        "*   IMDB ID : IMDB Id of movise and shows\n",
        "\n",
        "*   IMDB Score : IMDB Scores of movies and shows\n",
        "\n",
        "*   IMDB Votes : IMDB Votes of movies and shows\n",
        "\n",
        "*   TMDB Popularity : TMDB popularity of movies and shows\n",
        "\n",
        "*   TMDB Score : TMDB Score of content\n",
        "\n",
        "\n",
        "\n",
        "\n",
        "\n"
      ],
      "metadata": {
        "id": "aJV4KIxSnxay"
      }
    },
    {
      "cell_type": "markdown",
      "source": [
        "### Check Unique Values for each variable."
      ],
      "metadata": {
        "id": "u3PMJOP6ngxN"
      }
    },
    {
      "cell_type": "code",
      "source": [
        "# Check Unique Values for each variable.\n",
        "for i in data.columns.tolist():\n",
        "  print(\"No. of unique values in \",i,\"is\",data[i].nunique(),\".\")"
      ],
      "metadata": {
        "id": "zms12Yq5n-jE",
        "collapsed": true
      },
      "execution_count": null,
      "outputs": []
    },
    {
      "cell_type": "markdown",
      "source": [
        "## 3. ***Data Wrangling***"
      ],
      "metadata": {
        "id": "dauF4eBmngu3"
      }
    },
    {
      "cell_type": "markdown",
      "source": [
        "### Data Wrangling Code"
      ],
      "metadata": {
        "id": "bKJF3rekwFvQ"
      }
    },
    {
      "cell_type": "code",
      "source": [
        "# Create a copy of data\n",
        "dataset=data.copy()\n"
      ],
      "metadata": {
        "id": "wk-9a2fpoLcV"
      },
      "execution_count": null,
      "outputs": []
    },
    {
      "cell_type": "code",
      "source": [
        "# Analysing the null value\n",
        "dataset.isnull().sum()"
      ],
      "metadata": {
        "collapsed": true,
        "id": "MdB7e_YQcp3V"
      },
      "execution_count": null,
      "outputs": []
    },
    {
      "cell_type": "code",
      "source": [
        "# Analysing the null value in percentage\n",
        "(dataset.isnull().sum()/ len(dataset))*100"
      ],
      "metadata": {
        "id": "5rMY64Fmzl86",
        "collapsed": true
      },
      "execution_count": null,
      "outputs": []
    },
    {
      "cell_type": "markdown",
      "source": [
        "Filling in missing values :"
      ],
      "metadata": {
        "id": "_d_PHExtCzLB"
      }
    },
    {
      "cell_type": "code",
      "source": [
        "#  Dropping age_certification and seasons columns because of incomplete data.\n",
        "\n",
        "dataset.drop([\"age_certification\",\"seasons\"],inplace=True,axis=1)\n"
      ],
      "metadata": {
        "id": "-1KHJ6_xzl5b"
      },
      "execution_count": null,
      "outputs": []
    },
    {
      "cell_type": "code",
      "source": [
        "# As person_id comprises numerical value and is right skewed so we use median to fill the missing values\n",
        "\n",
        "person_id_median = dataset[\"person_id\"].median()\n",
        "\n",
        "\n",
        "dataset.fillna({\"person_id\": person_id_median},inplace=True)"
      ],
      "metadata": {
        "collapsed": true,
        "id": "E9otTsVadVoK"
      },
      "execution_count": null,
      "outputs": []
    },
    {
      "cell_type": "code",
      "source": [
        "# Replacing missing values from name using mode as it comprises categorical data\n",
        "\n",
        "name_mode = dataset[\"name\"].mode()[0]\n",
        "\n",
        "dataset.fillna({\"name\": name_mode},inplace=True)"
      ],
      "metadata": {
        "id": "Sc1z7xlu67f1",
        "collapsed": true
      },
      "execution_count": null,
      "outputs": []
    },
    {
      "cell_type": "code",
      "source": [
        "# Replacing missing values from character by using mode\n",
        "character_mode=dataset[\"character\"].mode()[0]\n",
        "\n",
        "dataset.fillna({\"character\": character_mode},inplace=True)"
      ],
      "metadata": {
        "id": "wYI2-I17TzWw"
      },
      "execution_count": null,
      "outputs": []
    },
    {
      "cell_type": "code",
      "source": [
        "# Removing missing values from role column\n",
        "role_mode = dataset[\"role\"].mode()[0]\n",
        "\n",
        "dataset.fillna({\"role\": role_mode},inplace=True)"
      ],
      "metadata": {
        "id": "p7nUnR7I8u2d"
      },
      "execution_count": null,
      "outputs": []
    },
    {
      "cell_type": "code",
      "source": [
        "# Removing missing value using mode\n",
        "\n",
        "description_mode = dataset[\"description\"].mode()[0]\n",
        "\n",
        "dataset.fillna({\"description\": description_mode},inplace=True)\n",
        "\n"
      ],
      "metadata": {
        "id": "pyOqY51N9HNc"
      },
      "execution_count": null,
      "outputs": []
    },
    {
      "cell_type": "code",
      "source": [
        "# Filling in mising values of imdb_id using mode\n",
        "\n",
        "imdb_id_mode = dataset[\"imdb_id\"].mode()[0]\n",
        "\n",
        "dataset.fillna({\"imdb_id\": imdb_id_mode},inplace=True)"
      ],
      "metadata": {
        "id": "jGmcut5M9lMz"
      },
      "execution_count": null,
      "outputs": []
    },
    {
      "cell_type": "code",
      "source": [
        "# Filling in missing values of imdb_score using median\n",
        "\n",
        "dataset[\"imdb_score\"].skew()  # This reflects that it is left skewed\n",
        "\n",
        "imdb_score_median = dataset[\"imdb_score\"].median()\n",
        "\n",
        "dataset.fillna({\"imdb_score\": imdb_score_median},inplace= True)\n",
        "\n",
        "\n"
      ],
      "metadata": {
        "id": "85j-K-VR_lc8"
      },
      "execution_count": null,
      "outputs": []
    },
    {
      "cell_type": "code",
      "source": [
        "# Filling in missing values  of imdb_score using median\n",
        "\n",
        "dataset[\"imdb_score\"].skew()\n",
        "\n",
        "imdb_score_median = dataset[\"imdb_score\"].median()\n",
        "\n",
        "dataset.fillna({\"imdb_score\": imdb_score_median},inplace=True)\n",
        "\n"
      ],
      "metadata": {
        "collapsed": true,
        "id": "dkvRivEHARWd"
      },
      "execution_count": null,
      "outputs": []
    },
    {
      "cell_type": "code",
      "source": [
        "# Filling in missing values  of imdb_votes using median\n",
        "\n",
        "dataset[\"imdb_votes\"].skew()  # Using median as it is right skewed\n",
        "\n",
        "imdb_votes_median = dataset[\"imdb_votes\"].median()\n",
        "\n",
        "dataset.fillna({\"imdb_votes\": imdb_votes_median},inplace = True)\n",
        "\n",
        "\n"
      ],
      "metadata": {
        "id": "WgeE70ySRazV",
        "collapsed": true
      },
      "execution_count": null,
      "outputs": []
    },
    {
      "cell_type": "code",
      "source": [
        "# Filling in missing values of tmdb_popularity using median\n",
        "\n",
        "dataset[\"tmdb_popularity\"].skew()\n",
        "\n",
        "tmdb_popularity_median = dataset[\"tmdb_popularity\"].median()\n",
        "\n",
        "dataset.fillna({\"tmdb_popularity\": tmdb_popularity_median},inplace=True)\n",
        "\n"
      ],
      "metadata": {
        "id": "emo1lbwWBIWy",
        "collapsed": true
      },
      "execution_count": null,
      "outputs": []
    },
    {
      "cell_type": "code",
      "source": [
        "# Filling in missing values using median\n",
        "\n",
        "dataset[\"tmdb_score\"].skew()  # As it is left skewed so we will use median\n",
        "\n",
        "tmdb_score_median = dataset[\"tmdb_score\"].median()\n",
        "\n",
        "dataset.fillna({\"tmdb_score\": tmdb_score_median},inplace = True)\n",
        "\n"
      ],
      "metadata": {
        "id": "9PerlKwjCLrK",
        "collapsed": true
      },
      "execution_count": null,
      "outputs": []
    },
    {
      "cell_type": "code",
      "source": [
        "# Renaming the production countries as countries\n",
        "\n",
        "dataset=dataset.rename(columns={\"production_countries\":\"countries\"})"
      ],
      "metadata": {
        "id": "-CJNeEZzBL1t"
      },
      "execution_count": null,
      "outputs": []
    },
    {
      "cell_type": "code",
      "source": [
        "# Creating a new columns named as movies\n",
        "\n",
        "dataset.loc[:,\"movies\"] = dataset.loc[dataset.loc[:,\"type\"] == 'MOVIE', \"title\"]\n",
        "\n",
        "# Drop the missing values of movies\n",
        "dataset.dropna(subset=[\"movies\"],inplace=True)"
      ],
      "metadata": {
        "id": "SW-zAEJ6wHxt"
      },
      "execution_count": null,
      "outputs": []
    },
    {
      "cell_type": "code",
      "source": [
        "# Renaming name column as actor\n",
        "dataset.rename(columns ={\"name\": \"actor\"},inplace=True)"
      ],
      "metadata": {
        "id": "_A3Sny8mHxmY"
      },
      "execution_count": null,
      "outputs": []
    },
    {
      "cell_type": "code",
      "source": [
        "dataset.isnull().sum()"
      ],
      "metadata": {
        "collapsed": true,
        "id": "FQ2wZle7C6HR"
      },
      "execution_count": null,
      "outputs": []
    },
    {
      "cell_type": "markdown",
      "source": [
        "Data manipulation\n"
      ],
      "metadata": {
        "id": "IjW2CvioEXDh"
      }
    },
    {
      "cell_type": "code",
      "source": [
        "''' For high score movies this is my base parameter :\n",
        "For IMDB - high score = > 7\n",
        "For TMDB - high score = > 7.5  '''"
      ],
      "metadata": {
        "id": "rn6VimAiTMFq"
      },
      "execution_count": null,
      "outputs": []
    },
    {
      "cell_type": "code",
      "source": [
        "# 1.  Which top 10 countries are rleasing movies with high imdb and tmdb score\n",
        "\n",
        "\n",
        "# Using groupby to group countries and movies\n",
        "good_movies = dataset[(dataset.loc[:,\"imdb_score\"] > 7) & (dataset.loc[:,\"tmdb_score\"] > 7.5) & (dataset.loc[:,\"type\"] == \"MOVIE\")]\n",
        "\n",
        "# convert string into list and then explode\n",
        "\n",
        "good_movies.loc[:,\"countries\"] = good_movies[\"countries\"].str.strip(\"[]\").str.replace(\"'\",\"\").str.split(\", \")\n",
        "\n",
        "explode = good_movies.explode(\"countries\")\n",
        "\n",
        "explode = explode[explode[\"countries\"] != '']\n",
        "\n",
        "group = (explode.groupby(\"countries\",as_index=False)\n",
        "    [\"movies\"].count()\n",
        "    .sort_values(by= \"movies\",ascending= False)\n",
        "    .head(10))\n",
        "\n",
        "group\n",
        "\n",
        "\n"
      ],
      "metadata": {
        "collapsed": true,
        "id": "lsQE59bbgAIN"
      },
      "execution_count": null,
      "outputs": []
    },
    {
      "cell_type": "code",
      "source": [
        "# 2. which countries are investing more on which particluar genres for movies after 2000\n",
        "\n",
        "recent_years = dataset[(dataset[\"release_year\"] >= 2000) & (dataset[\"type\"] == \"MOVIE\") & (dataset[\"imdb_score\"]> 6.5) & (dataset[\"tmdb_score\"]> 7)]\n",
        "\n",
        "recent_years.loc[:,\"genres\"] = (recent_years[\"genres\"].str.strip(\"[]\").str.replace(\"'\", \"\").str.split(\", \"))\n",
        "\n",
        "recent_years.loc[:,\"countries\"] = (recent_years[\"countries\"].str.strip(\"[]\").str.replace(\"'\", \"\").str.split(\", \"))\n",
        "\n",
        "recent_exploded = recent_years.explode('genres')\n",
        "\n",
        "recent_exploded = recent_exploded[recent_exploded['genres'] != '']\n",
        "\n",
        "\n",
        "\n",
        "# Explode 'countries' column as well\n",
        "recent_exploded = recent_exploded.explode('countries')\n",
        "recent_exploded = recent_exploded[recent_exploded['countries'] != '']\n",
        "\n",
        "genre_focus = recent_exploded.groupby([\"countries\", \"genres\"])[\"movies\"].nunique().reset_index(name=\"movie_count\")\n",
        "\n",
        "genre_focus = genre_focus.sort_values(by=[\"countries\", \"movie_count\"], ascending=[True, False])\n",
        "\n",
        "# Optional: Show top 10 entries\n",
        "\n",
        "# Get the top genre for each country (genre with max movie_count)\n",
        "top_genres_by_country = genre_focus.groupby('countries').apply(\n",
        "    lambda x: x.nlargest(1, 'movie_count')\n",
        ").reset_index(drop=True) # Removed include_groups=False as it is not supported in older pandas versions\n",
        "\n",
        "# This will give you a DataFrame with each country and its top genre\n",
        "top_genres_by_country[['countries', 'genres', 'movie_count']].sort_values(by=\"movie_count\",ascending=False).head(10)"
      ],
      "metadata": {
        "id": "-zzUDPA8DEQE"
      },
      "execution_count": null,
      "outputs": []
    },
    {
      "cell_type": "code",
      "source": [
        "# 3. which genres are among the top based on avergae popularity after 2000\n",
        "\n",
        "# Filtering dataset including data after 2000\n",
        "recent_years= dataset[dataset[\"release_year\"] >= 2000]\n",
        "\n",
        "# Converting elements of genres into a separate entity\n",
        "recent_years.loc[:,\"genres\"] = recent_years[\"genres\"].str.strip(\"[]\").str.replace(\"'\",\"\").str.split(\", \")\n",
        "\n",
        "# Explode the genres\n",
        "explode_recent_years = recent_years.explode(\"genres\")\n",
        "\n",
        "explode_recent_years = explode_recent_years[explode_recent_years[\"genres\"] != '' ]    # Explode if there's empty value\n",
        "\n",
        "# Using groupby function to get the desired result\n",
        "\n",
        "\n",
        "avg_gen_pop = explode_recent_years.groupby(\"genres\",as_index = False).agg(avg_popularity=(\"tmdb_popularity\", \"mean\"),movies_count=(\"movies\",\"count\")).sort_values(by=\"avg_popularity\",ascending=False)\n",
        "\n",
        "avg_gen_pop  # This data have been used to create chart #13\n",
        "\n",
        "\n",
        "\n"
      ],
      "metadata": {
        "id": "ltiRh1JR_4B5"
      },
      "execution_count": null,
      "outputs": []
    },
    {
      "cell_type": "code",
      "source": [
        "# 4. which genres are among the top based on average imdb and average tmdb score after 2000\n",
        "\n",
        "recent_years = dataset[dataset[\"release_year\"] >= 2000]\n",
        "\n",
        "recent_years.loc[:,\"genres\"] = (recent_years[\"genres\"].str.strip(\"[]\").str.replace(\"'\", \"\").str.split(\", \"))\n",
        "\n",
        "recent_exploded = recent_years.explode('genres')\n",
        "\n",
        "recent_exploded = recent_exploded[recent_exploded['genres'] != '']\n",
        "\n",
        "genre_scores = (\n",
        "    recent_exploded.groupby('genres', as_index=False)\n",
        "    .agg(\n",
        "        avg_imdb=('imdb_score', 'mean'),\n",
        "        avg_tmdb=('tmdb_score', 'mean'),\n",
        "        movie_count=('movies', 'count')\n",
        "    )\n",
        "    .query('movie_count >= 10')  # Ignore niche genres\n",
        "    .sort_values(['avg_imdb', 'avg_tmdb'], ascending=False)\n",
        ")\n",
        "\n",
        "top_genres = genre_scores.head(10)\n",
        "genre_score=top_genres[['genres', 'avg_imdb', 'avg_tmdb', 'movie_count']]\n",
        "genre_score  # This data have been used to create chart # 12"
      ],
      "metadata": {
        "id": "8OfMx6IVMlCE"
      },
      "execution_count": null,
      "outputs": []
    },
    {
      "cell_type": "code",
      "source": [
        "# 5. name top 10 movies who got highes imdb and tmdb score\n",
        "\n",
        "# Step - 1 : Find the highest score data\n",
        "high_rated = dataset[(dataset.loc[:,\"imdb_score\"] > 7 ) & (dataset.loc[:,\"tmdb_score\"] > 7.5 )].sort_values(by = [\"imdb_score\",\"tmdb_score\"],ascending=[False,False]).reset_index(drop=True)\n",
        "\n",
        "# Step - 2 : drop duplicate titles\n",
        "unique_high_rated = high_rated.drop_duplicates(\"movies\")\n",
        "\n",
        "unique=unique_high_rated.head(10)[[\"movies\",\"imdb_score\",\"tmdb_score\"]]\n",
        "unique  # This result have been used to create chart - 10"
      ],
      "metadata": {
        "collapsed": true,
        "id": "fIRrgOZpA0MQ"
      },
      "execution_count": null,
      "outputs": []
    },
    {
      "cell_type": "code",
      "source": [
        "# 6. name top 10 shows who got highes imdb and tmdb score\n",
        "\n",
        "# Step - 1 : Find the highest score data\n",
        "high_rated = data[(data.loc[:,\"imdb_score\"] > 7 ) & (data.loc[:,\"tmdb_score\"] > 7.5 ) & (data[\"type\"] == \"SHOW\") ].sort_values(by = [\"imdb_score\",\"tmdb_score\"],ascending=[False,False]).reset_index(drop=True)\n",
        "\n",
        "# Step - 2 : drop duplicate titles\n",
        "unique_high_rated = high_rated.drop_duplicates(\"title\")\n",
        "unique_high_rated[['title',\"imdb_score\",\"tmdb_score\"]].head(10)\n",
        "uniques=unique_high_rated[['title',\"imdb_score\",\"tmdb_score\"]].head(10)\n",
        "uniques  # This dataframe is used to create chart # 11\n"
      ],
      "metadata": {
        "id": "sFONb_cEL_uM"
      },
      "execution_count": null,
      "outputs": []
    },
    {
      "cell_type": "code",
      "source": [
        "# 7 .Name top 10 most popular actors in 2000s\n",
        "\n",
        "recent_years = dataset[dataset[\"release_year\"] >= 2000]\n",
        "\n",
        "actor_counts = recent_years[\"actor\"].value_counts()\n",
        "\n",
        "# Keep actors with at least 3 movies\n",
        "frequent_actors = actor_counts[actor_counts >= 3].index\n",
        "\n",
        "# Filter dataset\n",
        "filtered = recent_years[recent_years[\"actor\"].isin(frequent_actors)]\n",
        "\n",
        "# Compute mean popularity again\n",
        "pop = filtered.groupby(\"actor\", as_index=False).agg({\"tmdb_popularity\":\"mean\",\"movies\":\"count\"}).sort_values(by=\"tmdb_popularity\", ascending=False)\n",
        "\n",
        "# Show top 10\n",
        "pop.head(10)    # Chart -7 : The result (pop.head(10) used in chart 7\n"
      ],
      "metadata": {
        "collapsed": true,
        "id": "d_4rJIduYES5"
      },
      "execution_count": null,
      "outputs": []
    },
    {
      "cell_type": "code",
      "source": [
        "# 8. Name top 10 most popular actors in 1900s\n",
        "\n",
        "before_2000 = dataset[dataset[\"release_year\"] < 2000]\n",
        "\n",
        "actor_counts = before_2000[\"actor\"].value_counts()\n",
        "\n",
        "# Keep actors with at least 3 movies\n",
        "frequent_actors = actor_counts[actor_counts >= 3].index\n",
        "\n",
        "# Filter dataset\n",
        "filtered = before_2000[before_2000[\"actor\"].isin(frequent_actors)]\n",
        "\n",
        "# Compute mean popularity again\n",
        "pops = filtered.groupby(\"actor\", as_index=False).agg({\"tmdb_popularity\":\"mean\",\"movies\":\"count\"}).sort_values(by=\"tmdb_popularity\", ascending=False)\n",
        "\n",
        "# Show top 10\n",
        "pops.head(10)\n",
        "\n"
      ],
      "metadata": {
        "id": "z1JL7-zlYPz2"
      },
      "execution_count": null,
      "outputs": []
    },
    {
      "cell_type": "code",
      "source": [
        "# 9. which movies is  mostly liked on imdb and tmdb score basen on runtime\n",
        "\n",
        "# Step 1: Remove duplicates (one row per movie)\n",
        "unique_movies = dataset.drop_duplicates(subset=[\"title\", \"imdb_score\", \"tmdb_score\", \"runtime\"])\n",
        "\n",
        "# Step 2: Filter high-rated movies\n",
        "high_score = unique_movies[\n",
        "    (unique_movies[\"imdb_score\"] > 7) &\n",
        "    (unique_movies[\"tmdb_score\"] > 7.5)\n",
        "]\n",
        "\n",
        "# Step 3: Group by runtime and calculate MEDIAN scores\n",
        "runtime_stats = high_score.groupby(\n",
        "    pd.cut(high_score[\"runtime\"],\n",
        "           bins=[0, 90, 120, 180, 1000],\n",
        "           labels=[\"Short (<90m)\", \"Medium (90-120m)\", \"Long (120-180m)\", \"Epic (180m+)\"]),observed=False\n",
        ").agg({\n",
        "    \"imdb_score\": \"median\",\n",
        "    \"tmdb_score\": \"median\",\n",
        "    \"title\": \"count\"  # Number of movies per group\n",
        "}).rename(columns={\"title\": \"movie_count\"}).reset_index()\n",
        "\n",
        "# Sort by highest median IMDb score\n",
        "a = runtime_stats.sort_values(\"imdb_score\", ascending=False)\n",
        "a  # This data is used to create chart # 17"
      ],
      "metadata": {
        "id": "5pSWwOWT_bbX"
      },
      "execution_count": null,
      "outputs": []
    },
    {
      "cell_type": "code",
      "source": [
        "# 10. name 10 movies which got the highest vote\n",
        "unique_movies = dataset.drop_duplicates(subset=\"movies\")\n",
        "\n",
        "top_10 = unique_movies[[\"movies\",\"imdb_votes\"]].sort_values(by=\"imdb_votes\",ascending=False).head(10)\n",
        "\n",
        "top_10  # This result have been used to create chart 9"
      ],
      "metadata": {
        "collapsed": true,
        "id": "YgLlxuSNA25y"
      },
      "execution_count": null,
      "outputs": []
    },
    {
      "cell_type": "code",
      "source": [
        "#  11. In which year did the movies released got the highest imdb and tmdb score\n",
        "\n",
        "# Step 1: Filter high-rated movies (IMDB > 7, TMDB > 7.5) and remove duplicates\n",
        "high_scores = dataset[\n",
        "    (dataset[\"type\"] == \"MOVIE\") &\n",
        "    (dataset[\"imdb_score\"] > 7) &\n",
        "    (dataset[\"tmdb_score\"] > 7.5)\n",
        "].drop_duplicates(subset=\"movies\")\n",
        "\n",
        "# Step 2: Calculate a combined score (weighted average) for ranking\n",
        "high_scores[\"combined_score\"] = (high_scores[\"imdb_score\"] * 0.5) + (high_scores[\"tmdb_score\"] * 0.5)\n",
        "\n",
        "# Step 3: Get the top movie per year based on combined score\n",
        "top_movies_by_year = high_scores.sort_values(\n",
        "    by=[\"release_year\", \"combined_score\"],\n",
        "    ascending=[True, False]\n",
        ").groupby(\"release_year\").first().reset_index()\n",
        "\n",
        "# Step 4: Display results (Year, Movie, Scores)\n",
        "result = top_movies_by_year[[\"release_year\", \"movies\", \"imdb_score\", \"tmdb_score\"]]\n",
        "result.tail(10)"
      ],
      "metadata": {
        "collapsed": true,
        "id": "zPEHBklkntIZ"
      },
      "execution_count": null,
      "outputs": []
    },
    {
      "cell_type": "code",
      "source": [
        "# 12. which countries have released the most number of movies with good imdb and tmdb score after 2000\n",
        "\n",
        "recent_years = dataset[(dataset[\"imdb_score\"]>7 )& (dataset[\"tmdb_score\"] > 7.5)& (dataset[\"release_year\"]>=2000) & (dataset[\"type\"]==\"MOVIE\")].drop_duplicates(subset=\"movies\")\n",
        "\n",
        "# Clean and explode countries column\n",
        "recent_years.loc[:,\"countries\"] = recent_years[\"countries\"].str.strip(\"[]\").str.replace(\"'\", \"\").str.split(\", \")\n",
        "\n",
        "# explode the countries column\n",
        "explode = recent_years.explode(\"countries\")\n",
        "explode = explode[explode[\"countries\"] !='' ]\n",
        "\n",
        "country_count = (explode.groupby(\"countries\")\n",
        "    .size().reset_index(name=\"movie_count\")\n",
        "    .sort_values(\"movie_count\",ascending=False))\n",
        "\n",
        "country_count.head(10)  # The extracted data has been used in chart 8"
      ],
      "metadata": {
        "id": "qm-NXOL8cTVc",
        "collapsed": true
      },
      "execution_count": null,
      "outputs": []
    },
    {
      "cell_type": "markdown",
      "source": [
        "### What all manipulations have you done and insights you found?\n"
      ],
      "metadata": {
        "id": "MSa1f5Uengrz"
      }
    },
    {
      "cell_type": "markdown",
      "source": [
        "\n",
        "\n",
        "1. \"I filtered the dataset to include only high-rated movies (IMDB > 7, TMDB > 7.5) and cleaned the countries column by converting it from a string to a list. Using explode(), I accounted for co-productions by splitting multi-country entries into separate rows. After grouping, the US emerged as the top producer (2,246 movies), followed by India (778) and the UK (448). This suggests Hollywood’s dominance, but also highlights India’s growing influence and Europe’s niche appeal. Anomalies like ‘SU’ (Soviet Union) indicate potential data quality issues.\"\n",
        "\n",
        "2. \"I filtered the dataset to include only high-rated movies (IMDB > 6.5, TMDB > 7) released after 2000. After cleaning and exploding the genres and countries columns, I grouped the data to count unique movies per genre-country pair. The results show the US produces the most high-quality documentation ( 106 films), followed by India (drama, 93 movies) then UK (drama, 30 movies). This analysis avoids overcounting by using nunique,() and highlights global genre trends in critically acclaimed cinema.\"\n",
        "\n",
        "3.  \"To identify genres trend post 2000, I had filtered the dataset to include movies which are released after 2000 and then explode the genres column then used groupby with tmdb_popularity to get the average popularity based on different genres. After grouping I got to know animation genre is on top among all the genres with 79.05 average popularity. followed by (fantasy, 38.08) then (sci-fi, 37.9). This shows that although countries like US and India is releasing movies with good imdb and tmdb score on documentation and drama but in terms of popularity animation is on top. Also i got to know, high number of movies can increase the production weightage but it is not necessary it increases the popularity as drama genre had 40000+ movies but in terms of popularity it is on 15th place.\n",
        "\n",
        "4. \"To identify which movies got the highest imdb and tmdb score , I had filtered the dataset (IMDB > 7 , TMDB > 7.5) and unique movies. I got to know Pawankhind is on top followed by Alexander Babu: Alex in Wonderland\tthen Soorarai Pottru.\"\n",
        "\n",
        "5. \"Among shows with IMDB > 7 & TMDB > 7.5 ,the top rated were Couple of mirrors(9.5, 8.0), The Chosen (9.4, 9.4), Surgeons : At the edge of life(9.2, 8.0).\n",
        "Note : Score isn't about trend or populairty its all about the quality.\"\n",
        "\n",
        "6. \"Among actors who are in atleast 3 movies before 2000, James Cameron is on top in terms of average popularity followed by Paul Brightwell then Bill Paxton.\n",
        "Before 2000 they are the most popular actors.\"\n",
        "\n",
        "7. \"While categorizing runtime on 4 head I got to know that medium runtime(90-120m) scored high on tmdb and imdb score. It means audience likes such content whose runtime is betweeen 120-180 minutes.\"\n",
        "\n",
        "8. \"Among movies who got the highest imdb votes are Titanic (1133692) followed by The Usual Suspect(1059480) then Brave Heart(1016629).\"\n",
        "\n",
        "9. \"After filtering the dataset (IMDB> 7 & TMDB > 7.5) I had calculated the weightage average then I had used groupby which helps me to know which movies scored high on year basis.\"\n",
        "\n",
        "10. \"After filtering the dataset (IMDB > 7 & TMDB > 7.5), release years >= 2000.I cleaned and explode the countries column then uses groupby to know how many high score films has been released by different countries. I got to know US is among the top with 68 movies followed by India with 80 movies then United Kingdom 15 movies.\""
      ],
      "metadata": {
        "id": "LbyXE7I1olp8"
      }
    },
    {
      "cell_type": "markdown",
      "source": [
        "## ***4. Data Vizualization, Storytelling & Experimenting with charts : Understand the relationships between variables***"
      ],
      "metadata": {
        "id": "GF8Ens_Soomf"
      }
    },
    {
      "cell_type": "markdown",
      "source": [
        "#### Chart - 1"
      ],
      "metadata": {
        "id": "0wOQAZs5pc--"
      }
    },
    {
      "cell_type": "code",
      "source": [
        "# Chart visualization code\n",
        "# Set up the figure size for better visualization\n",
        "plt.figure(figsize=(8,6))\n",
        "\n",
        "# Creating a histplot with KDE (Kernal Density Estimate) plot\n",
        "# Filtering only MOVIE type from dataset\n",
        "sns.histplot(data=dataset[dataset[\"type\"]==\"MOVIE\"],x=\"release_year\",color=\"blue\",bins=30,kde=True)\n",
        "\n",
        "# Adding labels and titles for clarity\n",
        "plt.xlabel(\"Release year\")\n",
        "plt.ylabel(\"Number of movies\")\n",
        "plt.title(\"Distribution of release year\")\n",
        "\n",
        "\n",
        "# Adding grid for better readibility of values\n",
        "plt.grid(True)\n",
        "\n",
        "# Display the plot\n",
        "plt.show()"
      ],
      "metadata": {
        "id": "7v_ESjsspbW7",
        "collapsed": true
      },
      "execution_count": null,
      "outputs": []
    },
    {
      "cell_type": "markdown",
      "source": [
        "##### 1. Why did you pick the specific chart?"
      ],
      "metadata": {
        "id": "K5QZ13OEpz2H"
      }
    },
    {
      "cell_type": "markdown",
      "source": [
        "By plotting a histplot we can analyze the distribution of movies released based on different years."
      ],
      "metadata": {
        "id": "XESiWehPqBRc"
      }
    },
    {
      "cell_type": "markdown",
      "source": [
        "##### 2. What is/are the insight(s) found from the chart?"
      ],
      "metadata": {
        "id": "lQ7QKXXCp7Bj"
      }
    },
    {
      "cell_type": "markdown",
      "source": [
        "From the above chart I got to know, there's signficant increase in number of movies released after 1980. Also highes number of movies released are in the year from 2000 to 2020."
      ],
      "metadata": {
        "id": "C_j1G7yiqdRP"
      }
    },
    {
      "cell_type": "markdown",
      "source": [
        "##### 3. Will the gained insights help creating a positive business impact?\n",
        "Are there any insights that lead to negative growth? Justify with specific reason.\n",
        "\n",
        "Yes, the insight from the distribution helps the business to create a positive impact. The sharp rise in number of movies after 2000 especially after 2010 indicates the interest of audience and industry expansion, guiding the businesses to invest more.\n",
        "There is no sign of negative growth but a slight dip post 2020 might reflect pandemic disruption rather than declining interest."
      ],
      "metadata": {
        "id": "448CDAPjqfQr"
      }
    },
    {
      "cell_type": "markdown",
      "source": [
        "#### Chart - 2"
      ],
      "metadata": {
        "id": "DWi_peFvRSpg"
      }
    },
    {
      "cell_type": "code",
      "source": [
        "# Chart visualization code\n",
        "# Filtering the SHOW type from data\n",
        "show = data[data[\"type\"]== \"SHOW\"]\n",
        "\n",
        "# Set up the figure size for better visualization\n",
        "plt.figure(figsize=(8,6))\n",
        "\n",
        "# Creating a histplot with kde(Kernal Density Estimate) plot\n",
        "sns.histplot(data = show,x = \"release_year\",bins=30,kde=True,color=\"red\")\n",
        "\n",
        "# Adding labels and titles for better clarity\n",
        "plt.title(\"Distribution of Show over the period of time\")\n",
        "plt.xlabel(\"Release Years\",labelpad=15,fontsize=12)\n",
        "plt.ylabel(\"Total number of Shows\",labelpad=15,fontsize=12)\n",
        "\n",
        "# Adding grid for better readibility\n",
        "plt.minorticks_on()\n",
        "plt.grid(which='minor', linestyle='--', alpha=0.1, color='black')\n",
        "\n",
        "# Display the plot\n",
        "plt.show()\n"
      ],
      "metadata": {
        "id": "i-tqhfJxRSph"
      },
      "execution_count": null,
      "outputs": []
    },
    {
      "cell_type": "markdown",
      "source": [
        "##### 1. Why did you pick the specific chart?"
      ],
      "metadata": {
        "id": "MFgphR2_RSpi"
      }
    },
    {
      "cell_type": "markdown",
      "source": [
        "Histplot highlights the distribution of SHOWS by release year"
      ],
      "metadata": {
        "id": "WSKUtxmXRSpi"
      }
    },
    {
      "cell_type": "markdown",
      "source": [
        "##### 2. What is/are the insight(s) found from the chart?"
      ],
      "metadata": {
        "id": "NKFNnWVlRSpj"
      }
    },
    {
      "cell_type": "markdown",
      "source": [
        "There's significant increase in Shows after 2000 which highlights the untaped opportunity."
      ],
      "metadata": {
        "id": "r3pca8_RRSpj"
      }
    },
    {
      "cell_type": "markdown",
      "source": [
        "##### 3. Will the gained insights help creating a positive business impact?\n",
        "Are there any insights that lead to negative growth? Justify with specific reason."
      ],
      "metadata": {
        "id": "y3OtXzf6RSpj"
      }
    },
    {
      "cell_type": "markdown",
      "source": [
        "Yes, after the year 2000, increase in shows indicates the interest of audience in which businesses can park their fund into this untapped opportunity."
      ],
      "metadata": {
        "id": "H2o6QhH3RSpj"
      }
    },
    {
      "cell_type": "markdown",
      "source": [
        "#### Chart - 3"
      ],
      "metadata": {
        "id": "KSlN3yHqYklG"
      }
    },
    {
      "cell_type": "code",
      "source": [
        "# Chart visualization code\n",
        "# Set up the figure size for better visualization\n",
        "plt.figure(figsize=(6,6))\n",
        "\n",
        "# Creating a countplot\n",
        "sns.countplot(x='type', data=data,color=\"yellow\",hue=\"type\",palette =[\"orange\",\"blue\"],legend=True)\n",
        "\n",
        "# Adding labels and titles for better clarity\n",
        "plt.xlabel(\"Type\")\n",
        "plt.ylabel(\"Count of movies\")\n",
        "plt.title(\"Distribution of content type  : Movies vs Shows\",pad=30)\n",
        "\n",
        "# Adding grid for better readibility\n",
        "plt.grid(True)\n",
        "\n",
        "# Display the plot\n",
        "plt.show()\n",
        "\n"
      ],
      "metadata": {
        "collapsed": true,
        "id": "hjbPxSbP0-tp"
      },
      "execution_count": null,
      "outputs": []
    },
    {
      "cell_type": "markdown",
      "source": [
        "##### 1. Why did you pick the specific chart?"
      ],
      "metadata": {
        "id": "t6dVpIINYklI"
      }
    },
    {
      "cell_type": "markdown",
      "source": [
        "Count plot enables the user to count the number of elements based on differenet subhead that's why I had used count plot."
      ],
      "metadata": {
        "id": "5aaW0BYyYklI"
      }
    },
    {
      "cell_type": "markdown",
      "source": [
        "##### 2. What is/are the insight(s) found from the chart?"
      ],
      "metadata": {
        "id": "ijmpgYnKYklI"
      }
    },
    {
      "cell_type": "markdown",
      "source": [
        "In the data we have more than 110000 movies and 2000 shows"
      ],
      "metadata": {
        "id": "PSx9atu2YklI"
      }
    },
    {
      "cell_type": "markdown",
      "source": [
        "##### 3. Will the gained insights help creating a positive business impact?\n",
        "Are there any insights that lead to negative growth? Justify with specific reason."
      ],
      "metadata": {
        "id": "-JiQyfWJYklI"
      }
    },
    {
      "cell_type": "markdown",
      "source": [
        "Yes, the insights can help business to create a positive impact. As we can see movie is dominating among the content type when compared to show. This suggests a higher production volume and high avalability which can guide platforms to prioritize movie based recommendation. Also low number of shows doesn't means there is no scope ,it might indicate untapped opportunities or under-investment in series."
      ],
      "metadata": {
        "id": "BcBbebzrYklV"
      }
    },
    {
      "cell_type": "markdown",
      "source": [
        "#### Chart - 4"
      ],
      "metadata": {
        "id": "4Of9eVA-YrdM"
      }
    },
    {
      "cell_type": "code",
      "source": [
        "# Chart visualization code\n",
        "# Set up figure size for better visualization\n",
        "plt.figure(figsize=(6,6))\n",
        "\n",
        "# Creating a boxplot of tmdb_popularity column\n",
        "sns.boxplot(x='tmdb_popularity', data=dataset)\n",
        "\n",
        "# Adding labels and title for better clarity\n",
        "plt.xlabel(\"TMDB Popularity\",labelpad=15)\n",
        "plt.title(\"Distribution of TMDB Popularity\",pad=30)\n",
        "\n",
        "# Adding grid for better readibility\n",
        "plt.grid(True)\n",
        "\n",
        "# Display the plot\n",
        "plt.show()\n"
      ],
      "metadata": {
        "id": "irlUoxc8YrdO"
      },
      "execution_count": null,
      "outputs": []
    },
    {
      "cell_type": "markdown",
      "source": [
        "##### 1. Why did you pick the specific chart?"
      ],
      "metadata": {
        "id": "iky9q4vBYrdO"
      }
    },
    {
      "cell_type": "markdown",
      "source": [
        "Box plot was chosen because it's ideal for visualizing the distribution of numerical values like TMDB Popularity. Also it helps us to know the median, IQR and outliers."
      ],
      "metadata": {
        "id": "aJRCwT6DYrdO"
      }
    },
    {
      "cell_type": "markdown",
      "source": [
        "##### 2. What is/are the insight(s) found from the chart?"
      ],
      "metadata": {
        "id": "F6T5p64dYrdO"
      }
    },
    {
      "cell_type": "markdown",
      "source": [
        "Most of the movies/shows have low popularity as indicates in chart most of the data are clustered left side. Also there are several extreme outliers."
      ],
      "metadata": {
        "id": "Xx8WAJvtYrdO"
      }
    },
    {
      "cell_type": "markdown",
      "source": [
        "##### 3. Will the gained insights help creating a positive business impact?\n",
        "Are there any insights that lead to negative growth? Justify with specific reason."
      ],
      "metadata": {
        "id": "y-Ehk30pYrdP"
      }
    },
    {
      "cell_type": "markdown",
      "source": [
        "Yes, since most of the content have low popularity, businesses can easily differentiate the difference between high popularity based on genres,runtime,features and can implement the changes to get the desired result."
      ],
      "metadata": {
        "id": "jLNxxz7MYrdP"
      }
    },
    {
      "cell_type": "markdown",
      "source": [
        "#### Chart - 5"
      ],
      "metadata": {
        "id": "lkU71tAQRTfP"
      }
    },
    {
      "cell_type": "code",
      "source": [
        "# Chart visualization code\n",
        "# Set up the figure size for better visibility\n",
        "plt.figure(figsize=(6,5))\n",
        "\n",
        "# Creating a box plot of imdb_votes column\n",
        "sns.boxplot(dataset,x=\"imdb_votes\")\n",
        "\n",
        "# Adding title and label for better clarity\n",
        "plt.title(\"Distribution of IMDB Votes\",pad =15,fontsize=15)\n",
        "plt.xlabel(\"IMDB Votes (In Millions)\",labelpad=15,fontsize=12)\n",
        "\n",
        "# Display the plot\n",
        "plt.show()"
      ],
      "metadata": {
        "id": "3w7JLqetRTfQ"
      },
      "execution_count": null,
      "outputs": []
    },
    {
      "cell_type": "markdown",
      "source": [
        "##### 1. Why did you pick the specific chart?"
      ],
      "metadata": {
        "id": "cZ57YxnPRTfQ"
      }
    },
    {
      "cell_type": "markdown",
      "source": [
        "Box plot indicates the median, IQR(Inter Quartile Range), outliers and also it shows the distribution of numerical values that's why I have used this."
      ],
      "metadata": {
        "id": "fUnzwXIgRTfR"
      }
    },
    {
      "cell_type": "markdown",
      "source": [
        "##### 2. What is/are the insight(s) found from the chart?"
      ],
      "metadata": {
        "id": "tQvykVU3RTfR"
      }
    },
    {
      "cell_type": "markdown",
      "source": [
        "Most of the movies have low IMDB Votes and there are multiple outliers which represents many top voted movies like Titanic, Shrek and so on."
      ],
      "metadata": {
        "id": "J58aYV7HRTfR"
      }
    },
    {
      "cell_type": "markdown",
      "source": [
        "##### 3. Will the gained insights help creating a positive business impact?\n",
        "Are there any insights that lead to negative growth? Justify with specific reason."
      ],
      "metadata": {
        "id": "BBKvQk0FRTfS"
      }
    },
    {
      "cell_type": "markdown",
      "source": [
        "Yes, Analyzing the genres, runtime, type of movies who got the highest vote can guide businesses to uncover the hidden patterns. However considering high voted movies and shows alone is not enough to multiply the profits rather we must consider scores too as a movie x may get a lot of votes but it is not necessary that it must get high scores."
      ],
      "metadata": {
        "id": "s8umeZ7RRTfS"
      }
    },
    {
      "cell_type": "markdown",
      "source": [
        "#### Chart - 6"
      ],
      "metadata": {
        "id": "bamQiAODYuh1"
      }
    },
    {
      "cell_type": "code",
      "source": [
        "# Chart visualization code\n",
        "# Set up figure size for better visualization\n",
        "plt.figure(figsize=(6,6))\n",
        "\n",
        "# Creating a violin plot to check the distribution of runtime\n",
        "sns.violinplot(data=dataset,x=\"runtime\")\n",
        "\n",
        "# Adding label and title for better clarity\n",
        "plt.xlabel(\"Runtime\")\n",
        "plt.title(\"Distribution of Runtime\",pad=20)\n",
        "\n",
        "# Adding grid for better readibility\n",
        "plt.grid(True)\n",
        "\n",
        "# Display the plot\n",
        "plt.show()"
      ],
      "metadata": {
        "id": "TIJwrbroYuh3"
      },
      "execution_count": null,
      "outputs": []
    },
    {
      "cell_type": "markdown",
      "source": [
        "##### 1. Why did you pick the specific chart?"
      ],
      "metadata": {
        "id": "QHF8YVU7Yuh3"
      }
    },
    {
      "cell_type": "markdown",
      "source": [
        "Violinplot was choosen because it not only reflects the distribution of runtime, median, IQR, outliers but also highlights where the data is most densly concentrated."
      ],
      "metadata": {
        "id": "dcxuIMRPYuh3"
      }
    },
    {
      "cell_type": "markdown",
      "source": [
        "##### 2. What is/are the insight(s) found from the chart?"
      ],
      "metadata": {
        "id": "GwzvFGzlYuh3"
      }
    },
    {
      "cell_type": "markdown",
      "source": [
        "The cluster of data represents the average content runtime is between 80 - 120."
      ],
      "metadata": {
        "id": "uyqkiB8YYuh3"
      }
    },
    {
      "cell_type": "markdown",
      "source": [
        "##### 3. Will the gained insights help creating a positive business impact?\n",
        "Are there any insights that lead to negative growth? Justify with specific reason."
      ],
      "metadata": {
        "id": "qYpmQ266Yuh3"
      }
    },
    {
      "cell_type": "markdown",
      "source": [
        "Yes, the production house must focus on producing content with the runtime between 80-120 minutes as it is mostly liked by the audience. Also it indicates movies with high runtime (More than 180 minutes) is not favourable."
      ],
      "metadata": {
        "id": "_WtzZ_hCYuh4"
      }
    },
    {
      "cell_type": "markdown",
      "source": [
        "#### Chart - 7"
      ],
      "metadata": {
        "id": "OH-pJp9IphqM"
      }
    },
    {
      "cell_type": "code",
      "source": [
        "# Chart visualization code\n",
        "# Set up figure size for better visibility\n",
        "plt.figure(figsize=(8,6))\n",
        "\n",
        "# Creating a barplot to visually analyze top 10 popular actor in 20th Century\n",
        "# Using the filtered data as pop.head(10)\n",
        "sns.barplot(data=pop.head(10),x=\"actor\",y=\"tmdb_popularity\",hue=\"actor\",palette=\"Blues_d\")  # \"Data has been extracted in the 7th code cell of the data manipulation section\"\n",
        "\n",
        "# Adding labels and title for better clarity\n",
        "plt.xticks(rotation=45,ha=\"right\")\n",
        "plt.xlabel(\"Actors\", fontsize=12, labelpad=15, loc='center',\n",
        "           bbox=dict(facecolor='lightyellow', edgecolor='black'))\n",
        "plt.title(\"Top 10 Actor by TMDB Popularity in the 20th Century\",pad= 30)\n",
        "plt.ylabel(\"TMDB Popularity\",labelpad=20,bbox=dict(facecolor=\"lightyellow\",edgecolor=\"black\"))\n",
        "\n",
        "# Adding grid for better readibility\n",
        "plt.grid(True)\n",
        "\n",
        "# Display the plot\n",
        "plt.show()"
      ],
      "metadata": {
        "id": "kuRf4wtuphqN"
      },
      "execution_count": null,
      "outputs": []
    },
    {
      "cell_type": "markdown",
      "source": [
        "##### 1. Why did you pick the specific chart?"
      ],
      "metadata": {
        "id": "bbFf2-_FphqN"
      }
    },
    {
      "cell_type": "markdown",
      "source": [
        "Bar plot was choosen because it is ideal for analyzing catogarical data against numerical data. It clearly indicaes TMDB Popularity along with actors making comparison easy and quick."
      ],
      "metadata": {
        "id": "loh7H2nzphqN"
      }
    },
    {
      "cell_type": "markdown",
      "source": [
        "##### 2. What is/are the insight(s) found from the chart?"
      ],
      "metadata": {
        "id": "_ouA3fa0phqN"
      }
    },
    {
      "cell_type": "markdown",
      "source": [
        "In 20th century, Jeniffer Kluska is among the top based on popularity, followed by Derek Drymon, Angela Yeoh and so on. This indicates these actors had significant recognition on popularity metrics during this period."
      ],
      "metadata": {
        "id": "VECbqPI7phqN"
      }
    },
    {
      "cell_type": "markdown",
      "source": [
        "##### 3. Will the gained insights help creating a positive business impact?\n",
        "Are there any insights that lead to negative growth? Justify with specific reason."
      ],
      "metadata": {
        "id": "Seke61FWphqN"
      }
    },
    {
      "cell_type": "markdown",
      "source": [
        "Yes, businesses must invest in appointing such actors who have significant recognition on popularity metrics. Popular actor attracts more audience, increase revenue as well as boost engagement."
      ],
      "metadata": {
        "id": "DW4_bGpfphqN"
      }
    },
    {
      "cell_type": "markdown",
      "source": [
        "#### Chart - 8"
      ],
      "metadata": {
        "id": "PIIx-8_IphqN"
      }
    },
    {
      "cell_type": "code",
      "source": [
        "# Chart visualization code\n",
        "# Set up figure size for better visualization\n",
        "plt.figure(figsize=(8,6))\n",
        "\n",
        "# Creating a barplot to visually analyze country wise movies with good score post 2000\n",
        "sns.barplot(data=country_count.head(10),x=\"countries\",y=\"movie_count\",hue=\"countries\",palette= \"YlGnBu\",legend=True)  # This data comes from the 12th code cell in the data manipulation section.\n",
        "\n",
        "# Adding title and labels for better clarity\n",
        "plt.title(\"Country wise Movies with Good Score (Post 2000)\",pad= 20)\n",
        "plt.xlabel(\"Countries\",labelpad= 20 ,loc='center',\n",
        "           bbox=dict(facecolor='lightyellow', edgecolor='black'))\n",
        "plt.ylabel(\"Total Number of Movies\",labelpad=20, loc='center',\n",
        "           bbox=dict(facecolor='lightyellow', edgecolor='black'))\n",
        "\n",
        "# Display the plot\n",
        "plt.show()"
      ],
      "metadata": {
        "id": "lqAIGUfyphqO"
      },
      "execution_count": null,
      "outputs": []
    },
    {
      "cell_type": "markdown",
      "source": [
        "##### 1. Why did you pick the specific chart?"
      ],
      "metadata": {
        "id": "t27r6nlMphqO"
      }
    },
    {
      "cell_type": "markdown",
      "source": [
        "Bar plot was chosen because it is ideal for visualizing the categorical data along with numerical data. It makes our visualization simple and easy which ultimately saves time."
      ],
      "metadata": {
        "id": "iv6ro40sphqO"
      }
    },
    {
      "cell_type": "markdown",
      "source": [
        "##### 2. What is/are the insight(s) found from the chart?"
      ],
      "metadata": {
        "id": "r2jJGEOYphqO"
      }
    },
    {
      "cell_type": "markdown",
      "source": [
        "After the year 2000, US leads in producing highest number of movies with good score (IMDB score > 7 & TMDB score > 7.5) followed by India with 50 movies then UK with 15 movies and so on. This suggests that US and India have been major contributors to high quality cinema over this period."
      ],
      "metadata": {
        "id": "Po6ZPi4hphqO"
      }
    },
    {
      "cell_type": "markdown",
      "source": [
        "##### 3. Will the gained insights help creating a positive business impact?\n",
        "Are there any insights that lead to negative growth? Justify with specific reason."
      ],
      "metadata": {
        "id": "b0JNsNcRphqO"
      }
    },
    {
      "cell_type": "markdown",
      "source": [
        "Yes, As US & IN is producing high quality movies, businesses can park their fund in their content. They not only demonstrate the consistency of the quality but also they have large established audience(domestic as well as international)."
      ],
      "metadata": {
        "id": "xvSq8iUTphqO"
      }
    },
    {
      "cell_type": "markdown",
      "source": [
        "#### Chart - 9"
      ],
      "metadata": {
        "id": "BZR9WyysphqO"
      }
    },
    {
      "cell_type": "code",
      "source": [
        "# Chart visualization code\n",
        "# Set up figure size for better visualization\n",
        "plt.figure(figsize=(8,6))\n",
        "\n",
        "# Creating a barplot to visually analyze top 10 movies with highest votes\n",
        "sns.barplot(data = top_10, x =\"movies\",y = \"imdb_votes\", hue = \"movies\", palette = \"GnBu\", legend = False)  # This data comes from 10th code cell of data manipulation segment.\n",
        "\n",
        "# Adding title and labels for better clarity\n",
        "plt.xlabel(\"Movie\",labelpad=15,  bbox=dict(facecolor='lightyellow', edgecolor='black'))\n",
        "plt.ylabel(\"IMDB Votes (In Millions)\",labelpad=15,  bbox=dict(facecolor='lightyellow', edgecolor='black'))\n",
        "plt.title(\"Top 10 Movies with Highes Votes\",pad=15)\n",
        "plt.xticks(rotation=45,ha=\"right\")\n",
        "\n",
        "# Display the plot\n",
        "plt.show()"
      ],
      "metadata": {
        "id": "TdPTWpAVphqO"
      },
      "execution_count": null,
      "outputs": []
    },
    {
      "cell_type": "markdown",
      "source": [
        "##### 1. Why did you pick the specific chart?"
      ],
      "metadata": {
        "id": "jj7wYXLtphqO"
      }
    },
    {
      "cell_type": "markdown",
      "source": [
        "Barplot highlights the comparison between multilple elements along with their numerical value that's why I have used it."
      ],
      "metadata": {
        "id": "Ob8u6rCTphqO"
      }
    },
    {
      "cell_type": "markdown",
      "source": [
        "##### 2. What is/are the insight(s) found from the chart?"
      ],
      "metadata": {
        "id": "eZrbJ2SmphqO"
      }
    },
    {
      "cell_type": "markdown",
      "source": [
        "Among all the movies, Titanic stands on top in terms of votes followed by The UsuaL Suspects then Braveheart and so on."
      ],
      "metadata": {
        "id": "mZtgC_hjphqO"
      }
    },
    {
      "cell_type": "markdown",
      "source": [
        "##### 3. Will the gained insights help creating a positive business impact?\n",
        "Are there any insights that lead to negative growth? Justify with specific reason."
      ],
      "metadata": {
        "id": "rFu4xreNphqO"
      }
    },
    {
      "cell_type": "markdown",
      "source": [
        "Yes, Analyzing the genres, runtime and their marketing strategy can guide businesses to identify the hiddent pattern behind their success. However IMDB votes alone is not enough for a business to generate profit but it attracts large audience and boost engagement.\n",
        "\n"
      ],
      "metadata": {
        "id": "ey_0qi68phqO"
      }
    },
    {
      "cell_type": "markdown",
      "source": [
        "#### Chart - 10"
      ],
      "metadata": {
        "id": "YJ55k-q6phqO"
      }
    },
    {
      "cell_type": "code",
      "source": [
        "# Chart visualization code\n",
        "# Meting the filtered dataset to combine IMDB score & TMDB score\n",
        "df=unique.melt(id_vars=\"movies\",value_vars=[\"imdb_score\",\"tmdb_score\"],var_name= \"score_type\",value_name= \"score\")  # This data was generated in cell #5 of data manipulation segement.\n",
        "\n",
        "# Set up the figure size for bettter visualization\n",
        "plt.figure(figsize=(10,8))\n",
        "\n",
        "# Creating a barplot\n",
        "sns.barplot(data=df,x=\"movies\",y=\"score\",hue=\"score_type\",palette={\"Gold\",\"Blue\"})\n",
        "\n",
        "# Adding title and labels for better clarity\n",
        "plt.title(\"IMDB vs TMDB Score of Top 10 Movies\",pad=10)\n",
        "plt.xlabel(\"Movies\",labelpad = 10,fontsize = 15, bbox = dict(facecolor = 'white', edgecolor='black'))\n",
        "plt.ylabel(\"Score\",labelpad=10,fontsize=15, bbox=dict(facecolor = 'white', edgecolor='black'))\n",
        "plt.xticks(rotation=90,ha=\"center\")\n",
        "\n",
        "# Display the plot\n",
        "plt.show()"
      ],
      "metadata": {
        "id": "B2aS4O1ophqO"
      },
      "execution_count": null,
      "outputs": []
    },
    {
      "cell_type": "markdown",
      "source": [
        "##### 1. Why did you pick the specific chart?"
      ],
      "metadata": {
        "id": "gCFgpxoyphqP"
      }
    },
    {
      "cell_type": "markdown",
      "source": [
        "Barplot is ideal for comparing the distribution of numerical data along with categorical data."
      ],
      "metadata": {
        "id": "TVxDimi2phqP"
      }
    },
    {
      "cell_type": "markdown",
      "source": [
        "##### 2. What is/are the insight(s) found from the chart?"
      ],
      "metadata": {
        "id": "OVtJsKN_phqQ"
      }
    },
    {
      "cell_type": "markdown",
      "source": [
        "Pawankhind stands on top among the movies with good scores followed by Alexander Babu then Soorarai Pottru and so on."
      ],
      "metadata": {
        "id": "ngGi97qjphqQ"
      }
    },
    {
      "cell_type": "markdown",
      "source": [
        "##### 3. Will the gained insights help creating a positive business impact?\n",
        "Are there any insights that lead to negative growth? Justify with specific reason."
      ],
      "metadata": {
        "id": "lssrdh5qphqQ"
      }
    },
    {
      "cell_type": "markdown",
      "source": [
        "Yes, Movies like Pawankhind, Home , Drishyam 2 scored high on imdb and tmdb score metrics which guide businessed to invest in content released by such countries. Also by taking into consideration, runtime,genres,actor can positively impact the businesses to make informed decisions."
      ],
      "metadata": {
        "id": "tBpY5ekJphqQ"
      }
    },
    {
      "cell_type": "markdown",
      "source": [
        "#### Chart - 11"
      ],
      "metadata": {
        "id": "U2RJ9gkRphqQ"
      }
    },
    {
      "cell_type": "code",
      "source": [
        "# Chart visualization code\n",
        "# Melting the filterd dataset to combine scores\n",
        "df = uniques.melt(id_vars = \"title\",value_vars = [\"imdb_score\",\"tmdb_score\"],var_name = \"score_type\",value_name = \"score\")  # This data has been generated in code # 6 cell of data manipulation segment.\n",
        "\n",
        "# Set up figure size for better visualization\n",
        "plt.figure(figsize=(10,8))\n",
        "\n",
        "# Creating a barplot to compare the scores of to 10 Shows\n",
        "sns.barplot(data=df,x=\"title\",y=\"score\",hue=\"score_type\",palette=[\"gold\",\"grey\"])\n",
        "\n",
        "# Adding title and labels for better clarity\n",
        "plt.title(\"IMDB vs TMDB Score of Top 10 Shows\",pad=20,fontsize=15,bbox = dict(facecolor = 'White', edgecolor = 'black'))\n",
        "plt.xlabel(\"Shows\",labelpad = 15,fontsize = 15, bbox = dict(facecolor = 'lightyellow', edgecolor = 'black'))\n",
        "plt.ylabel(\"Score\",labelpad = 15,fontsize = 15, bbox = dict(facecolor = 'lightyellow', edgecolor = 'black'))\n",
        "plt.xticks(rotation=90)\n",
        "\n",
        "# Display the plot\n",
        "plt.show()"
      ],
      "metadata": {
        "id": "GM7a4YP4phqQ"
      },
      "execution_count": null,
      "outputs": []
    },
    {
      "cell_type": "markdown",
      "source": [
        "##### 1. Why did you pick the specific chart?"
      ],
      "metadata": {
        "id": "1M8mcRywphqQ"
      }
    },
    {
      "cell_type": "markdown",
      "source": [
        "It helps to compare the scores based on different shows."
      ],
      "metadata": {
        "id": "8agQvks0phqQ"
      }
    },
    {
      "cell_type": "markdown",
      "source": [
        "##### 2. What is/are the insight(s) found from the chart?"
      ],
      "metadata": {
        "id": "tgIPom80phqQ"
      }
    },
    {
      "cell_type": "markdown",
      "source": [
        "Couple of Mirrors stands on top in SHOW type based on IMDB & TMDB Score followed by The Chosen then Surgeons: At the Edge of Life."
      ],
      "metadata": {
        "id": "Qp13pnNzphqQ"
      }
    },
    {
      "cell_type": "markdown",
      "source": [
        "##### 3. Will the gained insights help creating a positive business impact?\n",
        "Are there any insights that lead to negative growth? Justify with specific reason."
      ],
      "metadata": {
        "id": "JMzcOPDDphqR"
      }
    },
    {
      "cell_type": "markdown",
      "source": [
        "This chart helps to identify top performing shows with good scores. Although the numberof shows is less when compared with movies but businesses can invest on similar content to boost subscriber satisfaction and generate profit."
      ],
      "metadata": {
        "id": "R4Ka1PC2phqR"
      }
    },
    {
      "cell_type": "markdown",
      "source": [
        "#### Chart - 12"
      ],
      "metadata": {
        "id": "x-EpHcCOp1ci"
      }
    },
    {
      "cell_type": "code",
      "source": [
        "# Chart visualization code\n",
        "# Set up the figure size\n",
        "plt.figure(figsize=(8,6))\n",
        "\n",
        "# Melting the score to combine Average IMDB & Average TMDB Scores\n",
        "df = genre_score.melt(id_vars=\"genres\",value_vars=[\"avg_imdb\",\"avg_tmdb\"],var_name= \"score_type\",value_name=\"score\")  # Thid data has been generated in code cell # 4 of data manipulation segment.\n",
        "\n",
        "# Plotting a barplot to compare Average IMDB vs Average TMDB Score of recent years(post 2000)\n",
        "sns.barplot(data = df,x = \"genres\",y = \"score\",hue = \"score_type\",palette = [\"orange\",\"blue\"])\n",
        "\n",
        "# Move legend outside to the right\n",
        "plt.legend(bbox_to_anchor = (1.05, 1), loc = 'upper left', borderaxespad = 0)\n",
        "\n",
        "# Adding labels and title for better clarity\n",
        "plt.title(\"Avg IMDB vs Avg TMDB Score of Top 10 Genres\",pad=20,fontsize=15,bbox = dict(facecolor = 'White', edgecolor = 'black'))\n",
        "plt.xlabel(\"Genres\",labelpad = 15,fontsize = 15,  bbox = dict(facecolor='white', edgecolor = 'black'))\n",
        "plt.ylabel(\"Score\",labelpad = 15,fontsize = 15,  bbox = dict(facecolor = 'white', edgecolor = 'black'))\n",
        "plt.xticks(rotation = 90,fontsize = 11)\n",
        "\n",
        "# Display the plot\n",
        "plt.show()\n"
      ],
      "metadata": {
        "id": "mAQTIvtqp1cj"
      },
      "execution_count": null,
      "outputs": []
    },
    {
      "cell_type": "markdown",
      "source": [
        "##### 1. Why did you pick the specific chart?"
      ],
      "metadata": {
        "id": "X_VqEhTip1ck"
      }
    },
    {
      "cell_type": "markdown",
      "source": [
        "Barplot helps s to compare Genres by Average IMDB & Average TMDB Score."
      ],
      "metadata": {
        "id": "-vsMzt_np1ck"
      }
    },
    {
      "cell_type": "markdown",
      "source": [
        "##### 2. What is/are the insight(s) found from the chart?"
      ],
      "metadata": {
        "id": "8zGJKyg5p1ck"
      }
    },
    {
      "cell_type": "markdown",
      "source": [
        "Among all the genres, documentation genre stands on top with highest average IMDB & TMDB score, followed by history then music and so on."
      ],
      "metadata": {
        "id": "ZYdMsrqVp1ck"
      }
    },
    {
      "cell_type": "markdown",
      "source": [
        "##### 3. Will the gained insights help creating a positive business impact?\n",
        "Are there any insights that lead to negative growth? Justify with specific reason."
      ],
      "metadata": {
        "id": "PVzmfK_Ep1ck"
      }
    },
    {
      "cell_type": "markdown",
      "source": [
        "Yes, the above chart clearly represents that documentation genres is scoring high among all the genres which means the quality of documentation is high as it is liked by the audience so businesses can invest and creates similar content based on such genres inorder to boost engagement, generate revenue and increase consumer satisfaction."
      ],
      "metadata": {
        "id": "druuKYZpp1ck"
      }
    },
    {
      "cell_type": "markdown",
      "source": [
        "#### Chart - 13"
      ],
      "metadata": {
        "id": "n3dbpmDWp1ck"
      }
    },
    {
      "cell_type": "code",
      "source": [
        "# Chart visualization code\n",
        "# Set up figure size for better visualization\n",
        "plt.figure(figsize = (8,6))\n",
        "\n",
        "# Plotting a barplot to visually analyze popular genres of 20th Century\n",
        "sns.barplot(data = avg_gen_pop, x = \"genres\", y = \"avg_popularity\", hue = \"genres\",palette = \"viridis\")  # The data is generated in code cell #3 of data manipulation segment\n",
        "\n",
        "# Adding title and labels for better clarity\n",
        "plt.xticks(rotation = 90,fontsize = 11)\n",
        "plt.title(\"Post-2000 Genres Ranked by Average Popularity\", pad = 15, fontsize = 15,bbox = dict(facecolor = 'White', edgecolor = 'black'))\n",
        "plt.xlabel(\"Genres\",labelpad = 10,fontsize = 14, bbox = dict(facecolor = 'white', edgecolor = 'black'))\n",
        "plt.ylabel(\"Average Popularity\",labelpad = 15,fontsize = 13, bbox = dict(facecolor = 'white', edgecolor = 'black'))\n",
        "\n",
        "# Display the plot\n",
        "plt.show()"
      ],
      "metadata": {
        "id": "bwevp1tKp1ck"
      },
      "execution_count": null,
      "outputs": []
    },
    {
      "cell_type": "markdown",
      "source": [
        "##### 1. Why did you pick the specific chart?"
      ],
      "metadata": {
        "id": "ylSl6qgtp1ck"
      }
    },
    {
      "cell_type": "markdown",
      "source": [
        "It helps to visually compare the genres based on average popularity."
      ],
      "metadata": {
        "id": "m2xqNkiQp1ck"
      }
    },
    {
      "cell_type": "markdown",
      "source": [
        "##### 2. What is/are the insight(s) found from the chart?"
      ],
      "metadata": {
        "id": "ZWILFDl5p1ck"
      }
    },
    {
      "cell_type": "markdown",
      "source": [
        "Animation towers above among all the genres in terms of average popularity, followed by fantasy then scifi then family and so on."
      ],
      "metadata": {
        "id": "x-lUsV2mp1ck"
      }
    },
    {
      "cell_type": "markdown",
      "source": [
        "##### 3. Will the gained insights help creating a positive business impact?\n",
        "Are there any insights that lead to negative growth? Justify with specific reason."
      ],
      "metadata": {
        "id": "M7G43BXep1ck"
      }
    },
    {
      "cell_type": "markdown",
      "source": [
        "Genres like animation, scifi, family are among the top genres on popularity metrics after the year 2000. This can guide businesses to invest in such genres as it holds large audience base which helps in generating revenue, consumer satisfaction, boost engagements. However high popularity does not indicate the quality but it definitely indicates the awareness of movies/shows."
      ],
      "metadata": {
        "id": "5wwDJXsLp1cl"
      }
    },
    {
      "cell_type": "markdown",
      "source": [
        "#### Chart - 14"
      ],
      "metadata": {
        "id": "Ag9LCva-p1cl"
      }
    },
    {
      "cell_type": "code",
      "source": [
        "# Chart visualization code\n",
        "# Set up figure size for better visualization\n",
        "plt.figure(figsize=(6,5))\n",
        "\n",
        "# Plotting a scatterplot to check the distributon of IMDB & TMDB Score\n",
        "sns.scatterplot(data = dataset, x = 'imdb_score', y = 'tmdb_score')\n",
        "\n",
        "# Adding title and labels for better clarity\n",
        "plt.title(\"IMDb vs. TMDB Scores\",pad = 10, bbox = dict(facecolor = 'White', edgecolor = 'black'))\n",
        "plt.xlabel(\"IMDB Score\",labelpad = 15,fontsize = 12,bbox = dict(facecolor = 'lightyellow', edgecolor = 'black'))\n",
        "plt.ylabel(\"TMDB Score\",labelpad = 15,fontsize = 12,bbox = dict(facecolor = 'lightyellow', edgecolor = 'black'))\n",
        "\n",
        "# Display the plot\n",
        "plt.show()"
      ],
      "metadata": {
        "id": "EUfxeq9-p1cl"
      },
      "execution_count": null,
      "outputs": []
    },
    {
      "cell_type": "markdown",
      "source": [
        "##### 1. Why did you pick the specific chart?"
      ],
      "metadata": {
        "id": "E6MkPsBcp1cl"
      }
    },
    {
      "cell_type": "markdown",
      "source": [
        "It is ideal for comparing two numerical values (IMDB Score & TMDB Score). Also it visually represents the correlation, trends and any outliers."
      ],
      "metadata": {
        "id": "V22bRsFWp1cl"
      }
    },
    {
      "cell_type": "markdown",
      "source": [
        "##### 2. What is/are the insight(s) found from the chart?"
      ],
      "metadata": {
        "id": "2cELzS2fp1cl"
      }
    },
    {
      "cell_type": "markdown",
      "source": [
        "It shows a moderate positive correlation betweeen IMDB & TMDB Scores which means as IMDB Score increases TMDB Scores increases too. Also a dense cluster formed between IMDB (4-6) & TMDB (5-8) which represents most of the movies/shows fall in this score range."
      ],
      "metadata": {
        "id": "ozQPc2_Ip1cl"
      }
    },
    {
      "cell_type": "markdown",
      "source": [
        "##### 3. Will the gained insights help creating a positive business impact?\n",
        "Are there any insights that lead to negative growth? Justify with specific reason."
      ],
      "metadata": {
        "id": "3MPXvC8up1cl"
      }
    },
    {
      "cell_type": "markdown",
      "source": [
        "If a production house want to predict the audience responde, understanding the difference between IMDB & TMDB Score helps in recommending and promoting content more confidently. However noticable difference between both of the score can create a negative impact."
      ],
      "metadata": {
        "id": "GL8l1tdLp1cl"
      }
    },
    {
      "cell_type": "markdown",
      "source": [
        "#### Chart - 15"
      ],
      "metadata": {
        "id": "A68Cn4piQ-ik"
      }
    },
    {
      "cell_type": "code",
      "source": [
        "# Chart visualization code\n",
        "# Set up figure size for better visualization\n",
        "plt.figure(figsize = (6,5))\n",
        "\n",
        "# Plotting a scatterplot to visually analyze the distribution of Runtime and TMDB Popularity\n",
        "sns.scatterplot(data = dataset, x ='runtime', y ='tmdb_popularity')\n",
        "\n",
        "# Adding title and labels for better clarity\n",
        "plt.title(\"Runtime vs TMDB Popularity\",pad = 10, bbox = dict(facecolor = 'White', edgecolor = 'black'))\n",
        "plt.xlabel(\"Runtime\",labelpad = 15,fontsize = 12,bbox = dict(facecolor = 'lightyellow', edgecolor = 'black'))\n",
        "plt.ylabel(\"TMDB Popularity\",labelpad = 15,fontsize = 12,bbox = dict(facecolor = 'lightyellow', edgecolor = 'black'))\n",
        "\n",
        "# Display the plot\n",
        "plt.show()"
      ],
      "metadata": {
        "id": "eE7Zb8EnQ-il"
      },
      "execution_count": null,
      "outputs": []
    },
    {
      "cell_type": "markdown",
      "source": [
        "##### 1. Why did you pick the specific chart?"
      ],
      "metadata": {
        "id": "qJzyjrDLQ-im"
      }
    },
    {
      "cell_type": "markdown",
      "source": [
        "It helps to visually analyze the correlation between two numerical columns (Runtime,TMDB Popularity)."
      ],
      "metadata": {
        "id": "Q8pPTcdjQ-im"
      }
    },
    {
      "cell_type": "markdown",
      "source": [
        "##### 2. What is/are the insight(s) found from the chart?"
      ],
      "metadata": {
        "id": "uNXbaLL0Q-im"
      }
    },
    {
      "cell_type": "markdown",
      "source": [
        "Content with runtime between 90-120 are the performing well in terms of popularity metrics."
      ],
      "metadata": {
        "id": "Y41TQW0bQ-in"
      }
    },
    {
      "cell_type": "markdown",
      "source": [
        "##### 3. Will the gained insights help creating a positive business impact?\n",
        "Are there any insights that lead to negative growth? Justify with specific reason."
      ],
      "metadata": {
        "id": "yEPWQkNxQ-in"
      }
    },
    {
      "cell_type": "markdown",
      "source": [
        "Businesses must invest on content whose runtime is between 90-120 as Movies/shows with such runtime are the one who is getting popular."
      ],
      "metadata": {
        "id": "26JjHK4gQ-in"
      }
    },
    {
      "cell_type": "markdown",
      "source": [
        "#### Chart - 16"
      ],
      "metadata": {
        "id": "SI_hoOuCQ-Gs"
      }
    },
    {
      "cell_type": "code",
      "source": [
        "# Chart visualization code\n",
        "# Set up figure size for better visualization\n",
        "plt.figure(figsize = (6,5))\n",
        "\n",
        "# Plotting a scatterplot to visually analyze the correlation between Runtime and IMDB Votes\n",
        "sns.scatterplot(data = dataset, x ='runtime', y ='imdb_votes')\n",
        "\n",
        "# Adding title and labels for better clarity\n",
        "plt.title(\"Runtime vs IMDB Votes \",pad = 10,bbox = dict(facecolor = 'White', edgecolor = 'black'))\n",
        "plt.xlabel(\"Runtime\",labelpad = 15,fontsize = 12,bbox = dict(facecolor = 'lightyellow', edgecolor = 'black'))\n",
        "plt.ylabel(\"Imdb Votes (In Milion)\",labelpad = 15,bbox = dict(facecolor = 'lightyellow', edgecolor = 'black'))\n",
        "\n",
        "# Display the plot\n",
        "plt.show()"
      ],
      "metadata": {
        "id": "cKRFA8AwQ-Gt"
      },
      "execution_count": null,
      "outputs": []
    },
    {
      "cell_type": "markdown",
      "source": [
        "##### 1. Why did you pick the specific chart?"
      ],
      "metadata": {
        "id": "_Q-h0blXQ-Gu"
      }
    },
    {
      "cell_type": "markdown",
      "source": [
        "A scatterplot helps to find correlation between two numerical data (Runtime & IMDB Votes.)"
      ],
      "metadata": {
        "id": "rumXUb76Q-Gu"
      }
    },
    {
      "cell_type": "markdown",
      "source": [
        "##### 2. What is/are the insight(s) found from the chart?"
      ],
      "metadata": {
        "id": "76RgePXaQ-Gu"
      }
    },
    {
      "cell_type": "markdown",
      "source": [
        "Content with runtime in the range of (90-120) are the one who got the high number of votes."
      ],
      "metadata": {
        "id": "oCU8uA4UQ-Gv"
      }
    },
    {
      "cell_type": "markdown",
      "source": [
        "##### 3. Will the gained insights help creating a positive business impact?\n",
        "Are there any insights that lead to negative growth? Justify with specific reason."
      ],
      "metadata": {
        "id": "xyqXsgjqQ-Gv"
      }
    },
    {
      "cell_type": "markdown",
      "source": [
        "Production house  must focus more on producing content whose runtime is between 90-120 as it is getting higher votes."
      ],
      "metadata": {
        "id": "AyfsMKY1Q-Gv"
      }
    },
    {
      "cell_type": "markdown",
      "source": [
        "#### Chart - 17\n",
        "\n"
      ],
      "metadata": {
        "id": "lq_6PyMaQ-8q"
      }
    },
    {
      "cell_type": "code",
      "source": [
        "# Chart visualization code\n",
        "# Filtering the dataset to get Runtime and Movie_count of movies with good score(IMDB > 7 & TMDB > 7.5)\n",
        "runtime_data = a.set_index('runtime')['movie_count']  # This data have been generated in code cell #9  of data manipulation segment\n",
        "\n",
        "# Create pie chart to visually analyze the proportion of movies with good score by runtime\n",
        "plt.figure(figsize = (8, 6))\n",
        "plt.pie(\n",
        "    runtime_data,\n",
        "    labels = runtime_data.index,\n",
        "    autopct='%1.1f%%',\n",
        "    startangle = 90,           # Rotate pie to start from top\n",
        "    colors = [\"gold\",\"yellow\",\"blue\",\"lightpink\"],  # Custom colors\n",
        "    explode = (0.05, 0, 0, 0)  # Highlight \"Long\" segment slightly\n",
        ")\n",
        "\n",
        "# Equal aspect ratio ensures pie is circular\n",
        "plt.axis('equal')\n",
        "\n",
        "# Adding title for better clarity\n",
        "plt.title('Proportion of Movies by Runtime', pad = 20,bbox = dict(facecolor = 'White', edgecolor = 'black'))\n",
        "\n",
        "# Display the plot\n",
        "plt.show()"
      ],
      "metadata": {
        "id": "XXq1KtA9Q-8r"
      },
      "execution_count": null,
      "outputs": []
    },
    {
      "cell_type": "markdown",
      "source": [
        "##### 1. Why did you pick the specific chart?"
      ],
      "metadata": {
        "id": "6HM3lIfwQ-8r"
      }
    },
    {
      "cell_type": "markdown",
      "source": [
        "It helps to indicate the distribution of runtime on the basis of duration."
      ],
      "metadata": {
        "id": "9WLeqSHzQ-8r"
      }
    },
    {
      "cell_type": "markdown",
      "source": [
        "##### 2. What is/are the insight(s) found from the chart?"
      ],
      "metadata": {
        "id": "cebr764sQ-8r"
      }
    },
    {
      "cell_type": "markdown",
      "source": [
        "Runtime with medium duration (90-120m) outshines with 36.2 % of content, followed by short (<90m) with 35.3 % then Long (120-180m) with 25.9 % and last Epic (180m+) with 2.6 %."
      ],
      "metadata": {
        "id": "eeuya3L8Q-8s"
      }
    },
    {
      "cell_type": "markdown",
      "source": [
        "##### 3. Will the gained insights help creating a positive business impact?\n",
        "Are there any insights that lead to negative growth? Justify with specific reason."
      ],
      "metadata": {
        "id": "sBBN39SvQ-8t"
      }
    },
    {
      "cell_type": "markdown",
      "source": [
        "Yes , Production house must focus on producing content with Medium duration (90-120m)and short duration (<90m) as they are the one who get most score as well as popularity."
      ],
      "metadata": {
        "id": "ZtQK3h-nQ-8t"
      }
    },
    {
      "cell_type": "markdown",
      "source": [
        "#### Chart - 18\n",
        "\n"
      ],
      "metadata": {
        "id": "85HgHh5XyR-s"
      }
    },
    {
      "cell_type": "code",
      "source": [
        "# Chart visualization code\n",
        "# Filter actors (post-2000) who appeared in movies with good score\n",
        "\n",
        "score_high= dataset[(dataset[\"imdb_score\"]>7)&(dataset[\"tmdb_score\"]>7.5)&(dataset[\"type\"]==\"MOVIE\")&(dataset[\"release_year\"]>=2010)].drop_duplicates(subset=\"title\")\n",
        "high_ = score_high.sort_values(by = [\"imdb_score\",\"tmdb_score\"],ascending = [False,False]).head(10)\n",
        "\n",
        "# Using melt() to combine IMDB & TMDB Score\n",
        "actor_by_score = high_.melt(id_vars = \"actor\",value_vars = [\"imdb_score\",\"tmdb_score\"],var_name = \"score_type\",value_name = \"score\")\n",
        "\n",
        "\n",
        "# Set up figure size for better visualization\n",
        "plt.figure(figsize = (8,8))\n",
        "\n",
        "# Creating a barplot to visually analyze the top 10 actor based on IMDB & TMDB Score\n",
        "sns.barplot(data = actor_by_score,x = \"actor\",y = \"score\", hue = \"score_type\",palette = {\"blue\",\"orange\"})\n",
        "\n",
        "# Adding title and labels for better clarity\n",
        "plt.title(\"Top 10 actor by IMDB & TMDB Score (POST-2000)\",pad=15,fontsize=15, bbox = dict(facecolor = 'White', edgecolor = 'black'))\n",
        "plt.xlabel(\"Actors\",labelpad = 10,fontsize = 14)\n",
        "plt.ylabel(\"Score\",labelpad = 10,fontsize = 14)\n",
        "plt.xticks(rotation = 90)\n",
        "\n",
        "# Display the plot\n",
        "plt.show()"
      ],
      "metadata": {
        "id": "-hVLVE0oyb-I"
      },
      "execution_count": null,
      "outputs": []
    },
    {
      "cell_type": "markdown",
      "source": [
        "##### 1. Why did you pick the specific chart?"
      ],
      "metadata": {
        "id": "5ATrLUBmyR-u"
      }
    },
    {
      "cell_type": "markdown",
      "source": [
        "Barplot is ideal for comparing numerical values along with categorical value(IMDB vs TMDB Score by top 10 actors)."
      ],
      "metadata": {
        "id": "69Eq8vQeyR-u"
      }
    },
    {
      "cell_type": "markdown",
      "source": [
        "##### 2. What is/are the insight(s) found from the chart?"
      ],
      "metadata": {
        "id": "pe-9Gf4UyR-u"
      }
    },
    {
      "cell_type": "markdown",
      "source": [
        "The chart clearly represents that although actors like Jennifer Kluska , Derek Drymon stands on top on popularity metrics but Chinmey Mandlekar outshines in IMDB & TMDB score , followed by Alexander Babu then Suriya and so on."
      ],
      "metadata": {
        "id": "5fBM3MUhyR-u"
      }
    },
    {
      "cell_type": "markdown",
      "source": [
        "##### 3. Will the gained insights help creating a positive business impact?\n",
        "Are there any insights that lead to negative growth? Justify with specific reason."
      ],
      "metadata": {
        "id": "Yt8vf6mUyR-u"
      }
    },
    {
      "cell_type": "markdown",
      "source": [
        "Yes , Production house must focus on appointing actors like Chinmey Mandlekar, Suriya as they are the one who got the highes score on IMDB as well as TMDB."
      ],
      "metadata": {
        "id": "Nzl4GCzyyR-u"
      }
    },
    {
      "cell_type": "markdown",
      "source": [
        "#### Chart - 19 - Correlation Heatmap"
      ],
      "metadata": {
        "id": "NC_X3p0fY2L0"
      }
    },
    {
      "cell_type": "code",
      "source": [
        "# Chart visualization code\n",
        "# Filtering numerical data\n",
        "num_data = dataset.select_dtypes(include=[\"int64\",\"float64\"])\n",
        "correl = num_data.corr()\n",
        "\n",
        "# Set up figure size for better visualization\n",
        "plt.figure(figsize = (8,6))\n",
        "\n",
        "# Plot heatmap\n",
        "sns.heatmap(correl,annot = True,cmap = \"rainbow\")\n",
        "plt.tight_layout()\n",
        "\n",
        "# Display the heatmap\n",
        "plt.show()\n"
      ],
      "metadata": {
        "id": "xyC9zolEZNRQ"
      },
      "execution_count": null,
      "outputs": []
    },
    {
      "cell_type": "markdown",
      "source": [
        "##### 1. Why did you pick the specific chart?"
      ],
      "metadata": {
        "id": "UV0SzAkaZNRQ"
      }
    },
    {
      "cell_type": "markdown",
      "source": [
        "It is ideal for understanding the correlation of numerical values."
      ],
      "metadata": {
        "id": "DVPuT8LYZNRQ"
      }
    },
    {
      "cell_type": "markdown",
      "source": [
        "##### 2. What is/are the insight(s) found from the chart?"
      ],
      "metadata": {
        "id": "YPEH6qLeZNRQ"
      }
    },
    {
      "cell_type": "markdown",
      "source": [
        "*   IMDB Score and runtime shows weak positve correlation (0.26) meaning as runtime increase to medium duration the score also increase.\n",
        "\n",
        "*   IMDB Score and TMDB Score shows positive correlation (0.58).\n",
        "*   IMDB Votes and TMDB score shows weak positive correlation(0.24).\n",
        "\n",
        "\n",
        "\n",
        "\n",
        "\n",
        "\n",
        "\n"
      ],
      "metadata": {
        "id": "bfSqtnDqZNRR"
      }
    },
    {
      "cell_type": "markdown",
      "source": [
        "#### Chart - 20 - Pair Plot"
      ],
      "metadata": {
        "id": "q29F0dvdveiT"
      }
    },
    {
      "cell_type": "code",
      "source": [
        "# Chart visualization code\n",
        "# Creating pairplot\n",
        "sns.pairplot(dataset)\n",
        "\n",
        "# Display the plot\n",
        "plt.show()"
      ],
      "metadata": {
        "id": "o58-TEIhveiU",
        "collapsed": true
      },
      "execution_count": null,
      "outputs": []
    },
    {
      "cell_type": "markdown",
      "source": [
        "##### 1. Why did you pick the specific chart?"
      ],
      "metadata": {
        "id": "EXh0U9oCveiU"
      }
    },
    {
      "cell_type": "markdown",
      "source": [
        "A pairplot is used to visualize both the distribution of individual variables and the relationship between pairs of variables in a dataset."
      ],
      "metadata": {
        "id": "eMmPjTByveiU"
      }
    },
    {
      "cell_type": "markdown",
      "source": [
        "##### 2. What is/are the insight(s) found from the chart?"
      ],
      "metadata": {
        "id": "22aHeOlLveiV"
      }
    },
    {
      "cell_type": "markdown",
      "source": [
        "\n",
        "\n",
        "\n",
        "\n",
        "*   IMDb Score vs TMDB Score shows a clear positive linear relationship, confirming both rating platforms agree to a large extent.\n",
        "*   IMDb Votes vs IMDb Score reveals a mild positive trend — higher-rated movies tend to have more votes.\n",
        "\n",
        "*   Runtime is mostly concentrated between 50 to 150 minutes, indicating a common range for most films.\n",
        "*   IMDb Votes vs Runtime shows a weak correlation, though some longer movies gather more votes, possibly due to big-budget productions.\n",
        "\n",
        "\n",
        "\n"
      ],
      "metadata": {
        "id": "uPQ8RGwHveiV"
      }
    },
    {
      "cell_type": "markdown",
      "source": [
        "## **5. Solution to Business Objective**"
      ],
      "metadata": {
        "id": "JcMwzZxoAimU"
      }
    },
    {
      "cell_type": "markdown",
      "source": [
        "#### What do you suggest the client to achieve Business Objective ?\n"
      ],
      "metadata": {
        "id": "8G2x9gOozGDZ"
      }
    },
    {
      "cell_type": "markdown",
      "source": [
        "As there is positive relation between movies and release year, businesses must invest in producing movies with actors like Jennifer Kluska, Derek Drymon, Suriya , Alexander Babu and so forth. Additionally businnes must pay direct attention to genres like animation, scifi, documentation, fantasy, history and so on because these genres are the one who attracts large audience in terms of score and popularity. Furthermore considering runtime based on duration plays a very crucial role as runtime with long( 90-120m) & short (<90m) are critically acclaimed. However businesses must focus on Shows too as there is positive relation with release_year which indicates the rise in number of shows. Countries like US, India , UK are producing content with high quality so businesses must park their fund in such content in order to maximize revenue, boost engagement, consumer satisfaction e.t.c."
      ],
      "metadata": {
        "id": "pASKb0qOza21"
      }
    },
    {
      "cell_type": "markdown",
      "source": [
        "# **Conclusion**"
      ],
      "metadata": {
        "id": "gCX9965dhzqZ"
      }
    },
    {
      "cell_type": "markdown",
      "source": [
        "\n",
        "\n",
        "1. High-Quality Movies & Shows\n",
        "\n",
        "*   Focus on high-rated content (IMDB > 7, TMDB > 7.5) as they perform well in both popularity and quality.\n",
        "* Medium and short runtimes  (90 - 120 m) & (<90m ) tend to get better ratings, so prioritize well-paced storytelling.\n",
        "\n",
        "2.   Popular Genres = Bigger Audience\n",
        "\n",
        "*   Animation, Sci-Fi, Fantasy, and Documentary genres have the highest popularity and ratings.\n",
        "*   Drama has high production volume but lower popularity, so balance quantity with engaging genres.\n",
        "\n",
        "3.   Top Countries for High-Quality Content\n",
        "\n",
        "*   US, India, and UK dominate in producing critically acclaimed films.\n",
        "*   Hollywood leads, but India is rising fast, making it a key market for investment.\n",
        "\n",
        "4.   Shows Are Growing in Demand\n",
        "\n",
        "\n",
        "*   There’s a positive trend in shows (like Couple of Mirrors, The Chosen), indicating a shift toward binge-worthy series.\n",
        "\n",
        "5.   Actors Matter\n",
        "\n",
        "*   Actors like Suriya, Alexander Babu have strong audience appeal.\n",
        "*   Casting popular actors from past hits (pre-2000) can add credibility.\n",
        "\n",
        "6.   Data-Driven Production Decisions\n",
        "\n",
        "*   Use TMDB/IMDB ratings, runtime trends, and genre popularity to guide investments.\n",
        "*   Avoid overproducing low-popularity genres (even if they have high volume, like drama).\n",
        "\n",
        "\n",
        "\n"
      ],
      "metadata": {
        "id": "Fjb1IsQkh3yE"
      }
    },
    {
      "cell_type": "markdown",
      "source": [
        "### ***Hurrah! You have successfully completed your EDA Capstone Project !!!***"
      ],
      "metadata": {
        "id": "gIfDvo9L0UH2"
      }
    }
  ]
}